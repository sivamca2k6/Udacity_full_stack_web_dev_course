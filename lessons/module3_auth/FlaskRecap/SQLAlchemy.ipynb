{
 "cells": [
  {
   "cell_type": "code",
   "execution_count": null,
   "metadata": {
    "graffitiCellId": "id_nyar6mx"
   },
   "outputs": [],
   "source": [
    "# Copy The Stubbed Database File To A Location \n",
    "# Accessible to the Notebook\n",
    "! cp ./database.db /home/database.db"
   ]
  },
  {
   "cell_type": "code",
   "execution_count": null,
   "metadata": {
    "graffitiCellId": "id_h9gy0jq"
   },
   "outputs": [],
   "source": [
    "# Init the engine\n",
    "import os\n",
    "from sqlalchemy import create_engine, Column, String, Integer\n",
    "\n",
    "database_filename = \"playground.db\"\n",
    "project_dir = os.path.dirname(os.path.abspath(''))\n",
    "database_path = \"sqlite:///{}\".format(os.path.join(project_dir, database_filename))\n",
    "\n",
    "engine = create_engine(database_path)"
   ]
  },
  {
   "cell_type": "code",
   "execution_count": null,
   "metadata": {
    "graffitiCellId": "id_ml2j8z5",
    "scrolled": true
   },
   "outputs": [],
   "source": [
    "# Define a model class\n",
    "from sqlalchemy.ext.declarative import declarative_base\n",
    "\n",
    "Base = declarative_base()\n",
    "\n",
    "class User(Base):\n",
    "    __tablename__ = 'users'\n",
    "    # Autoincrementing, unique primary key\n",
    "    id = Column(Integer().with_variant(Integer, \"sqlite\"), primary_key=True)\n",
    "    # String Title\n",
    "    username = Column(String(80), unique=True)\n",
    "    # the ingredients blob - this stores a lazy json blob\n",
    "    # the required datatype is [{'color': string, 'name':string, 'parts':number}]\n",
    "    password =  Column(String(180), nullable=False)\n",
    "    \n",
    "    def __repr__(self):\n",
    "         return self.username +\": \"+self.password\n",
    "\n",
    "User.metadata.create_all(engine)\n",
    "\n",
    "User.__table__\n"
   ]
  },
  {
   "cell_type": "code",
   "execution_count": null,
   "metadata": {
    "graffitiCellId": "id_7yectbh"
   },
   "outputs": [],
   "source": [
    "# Init a session\n",
    "from sqlalchemy.orm import sessionmaker\n",
    "Session = sessionmaker(bind=engine)\n",
    "Session.configure(bind=engine)\n",
    "session = Session()\n"
   ]
  },
  {
   "cell_type": "code",
   "execution_count": null,
   "metadata": {
    "graffitiCellId": "id_qle59zk"
   },
   "outputs": [],
   "source": [
    "# Add a new user\n",
    "session.rollback()\n",
    "\n",
    "new_user = User(username='James', password='superstrongpassword')\n",
    "session.add(new_user)\n",
    "session.commit()"
   ]
  },
  {
   "cell_type": "code",
   "execution_count": null,
   "metadata": {
    "graffitiCellId": "id_6ngpkc7"
   },
   "outputs": [],
   "source": [
    "# Fetch a user from the database\n",
    "db_user = session.query(User).filter_by(username='James').first()\n",
    "print(db_user)"
   ]
  },
  {
   "cell_type": "code",
   "execution_count": null,
   "metadata": {
    "graffitiCellId": "id_b4wb2z5"
   },
   "outputs": [],
   "source": [
    "# > TIP: If you get stuck with errors, try executing this block:\n",
    "session.rollback()"
   ]
  }
 ],
 "metadata": {
  "graffiti": {
   "firstAuthorId": "10489997357",
   "id": "id_7wzfbsu",
   "language": "EN"
  },
  "kernelspec": {
   "display_name": "Python 3",
   "language": "python",
   "name": "python3"
  },
  "language_info": {
   "codemirror_mode": {
    "name": "ipython",
    "version": 3
   },
   "file_extension": ".py",
   "mimetype": "text/x-python",
   "name": "python",
   "nbconvert_exporter": "python",
   "pygments_lexer": "ipython3",
   "version": "3.6.3"
  }
 },
 "nbformat": 4,
 "nbformat_minor": 2
}
